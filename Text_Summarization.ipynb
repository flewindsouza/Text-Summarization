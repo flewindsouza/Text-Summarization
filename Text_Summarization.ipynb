{
  "nbformat": 4,
  "nbformat_minor": 0,
  "metadata": {
    "colab": {
      "name": "Text Summarization.ipynb",
      "provenance": [],
      "toc_visible": true
    },
    "kernelspec": {
      "name": "python3",
      "display_name": "Python 3"
    }
  },
  "cells": [
    {
      "cell_type": "markdown",
      "metadata": {
        "id": "SheRKoxXdXju",
        "colab_type": "text"
      },
      "source": [
        "## Importing Natural Language toolkit"
      ]
    },
    {
      "cell_type": "code",
      "metadata": {
        "id": "UH9teZdVhJ45",
        "colab_type": "code",
        "colab": {}
      },
      "source": [
        "import nltk\n"
      ],
      "execution_count": 0,
      "outputs": []
    },
    {
      "cell_type": "code",
      "metadata": {
        "id": "KAuXGX89hYc-",
        "colab_type": "code",
        "colab": {}
      },
      "source": [
        "from nltk.corpus import stopwords\n",
        "from nltk.cluster.util import cosine_distance\n",
        "import numpy as np\n",
        "import networkx as nx"
      ],
      "execution_count": 0,
      "outputs": []
    },
    {
      "cell_type": "markdown",
      "metadata": {
        "id": "DOxja-Stpa_t",
        "colab_type": "text"
      },
      "source": [
        "## Reading file"
      ]
    },
    {
      "cell_type": "code",
      "metadata": {
        "id": "d5IdXcP2hklO",
        "colab_type": "code",
        "colab": {}
      },
      "source": [
        "def read_article(file_name):\n",
        "  file = open(file_name, \"r\")\n",
        "  filedata = file.readlines()\n",
        "  article = filedata[0].split(\". \")\n",
        "  sentences = []\n",
        "\n",
        "  for sentence in article:\n",
        "    print(sentence)\n",
        "    sentences.append(sentence.replace(\"[^a-zA-Z]\", \" \").split(\" \"))\n",
        "  sentences.pop()\n",
        "\n",
        "  return sentences"
      ],
      "execution_count": 0,
      "outputs": []
    },
    {
      "cell_type": "markdown",
      "metadata": {
        "id": "bnpr7p-5s2Lg",
        "colab_type": "text"
      },
      "source": [
        ""
      ]
    },
    {
      "cell_type": "code",
      "metadata": {
        "id": "JDvjzRUOqSDU",
        "colab_type": "code",
        "colab": {}
      },
      "source": [
        "def sentence_similarity(sent1, sent2, stopwords=None):\n",
        "  if stopwords is None:\n",
        "    stopwords = []\n",
        " \n",
        "  sent1 = [w.lower() for w in sent1]\n",
        "  sent2 = [w.lower() for w in sent2]\n",
        " \n",
        "  all_words = list(set(sent1 + sent2))\n",
        " \n",
        "  vector1 = [0] * len(all_words)\n",
        "  vector2 = [0] * len(all_words)\n",
        "\n",
        "\n",
        "# Build the vector for the first sentence\n",
        "\n",
        "  for w in sent1:\n",
        "    if w in stopwords:\n",
        "      continue\n",
        "  vector1[all_words.index(w)] += 1   \n",
        "\n",
        "\n",
        "# Build the vector for the second sentence\n",
        "\n",
        "  for w in sent2:\n",
        "    if w in stopwords:\n",
        "      continue\n",
        "  vector2[all_words.index(w)] += 1\n",
        "\n",
        "  return 1 - cosine_distance(vector1, vector2)\n"
      ],
      "execution_count": 0,
      "outputs": []
    },
    {
      "cell_type": "markdown",
      "metadata": {
        "id": "hUJhr1ars1CA",
        "colab_type": "text"
      },
      "source": [
        "## Cosine similarity matrix"
      ]
    },
    {
      "cell_type": "code",
      "metadata": {
        "id": "g52H223GwtGL",
        "colab_type": "code",
        "colab": {}
      },
      "source": [
        "def build_similarity_matrix(sentences, stop_words):                             # Create an empty similarity matrix\n",
        "  similarity_matrix = np.zeros((len(sentences), len(sentences)))\n",
        " \n",
        "  for idx1 in range(len(sentences)):\n",
        "    for idx2 in range(len(sentences)):\n",
        "      if idx1 == idx2: #ignore if both are same sentences\n",
        "        continue \n",
        "      similarity_matrix[idx1][idx2] = sentence_similarity(sentences[idx1], sentences[idx2], stop_words)\n",
        "\n",
        "  return similarity_matrix"
      ],
      "execution_count": 0,
      "outputs": []
    },
    {
      "cell_type": "code",
      "metadata": {
        "id": "SgPVJvthyGJX",
        "colab_type": "code",
        "colab": {}
      },
      "source": [
        "def generate_summary(file_name, top_n=5):\n",
        "  nltk.download(\"stopwords\")\n",
        "  stop_words = stopwords.words('english')\n",
        "  summarize_text = []\n",
        "\n",
        "# Read text anc split it\n",
        "  sentences =  read_article(file_name)\n",
        "\n",
        "# Generate Similary Martix across sentences\n",
        "  sentence_similarity_martix = build_similarity_matrix(sentences, stop_words)\n",
        "\n",
        "# Rank sentences in similarity martix\n",
        "  sentence_similarity_graph = nx.from_numpy_array(sentence_similarity_martix)\n",
        "  scores = nx.pagerank(sentence_similarity_graph)\n",
        "\n",
        "# Sort the rank and pick top sentences\n",
        "  ranked_sentence = sorted(((scores[i],s) for i,s in enumerate(sentences)), reverse=True)    \n",
        "  print(\"Indexes of top ranked_sentence order are \", ranked_sentence)   \n",
        "\n",
        "\n",
        "  for i in range(top_n):\n",
        "    summarize_text.append(\" \".join(ranked_sentence[i][1]))\n",
        "\n",
        "  \n",
        "  print(\"Summarize Text: \\n\", \". \".join(summarize_text))\n",
        "\n",
        "  "
      ],
      "execution_count": 0,
      "outputs": []
    },
    {
      "cell_type": "code",
      "metadata": {
        "id": "8NYg00IM0EXr",
        "colab_type": "code",
        "colab": {
          "base_uri": "https://localhost:8080/",
          "height": 343
        },
        "outputId": "dbdd9495-3c31-408c-e60e-cd5b881039ae"
      },
      "source": [
        "generate_summary( \"text_ai.txt\", 5)"
      ],
      "execution_count": 84,
      "outputs": [
        {
          "output_type": "stream",
          "text": [
            "[nltk_data] Downloading package stopwords to /root/nltk_data...\n",
            "[nltk_data]   Package stopwords is already up-to-date!\n",
            "Artificial intelligence is a branch of computer science that aims to create intelligent machines\n",
            "It has become an essential part of the technology industry.Knowledge engineering is a core part of AI research\n",
            "Machines can often act and react like humans only if they have abundant information relating to the world\n",
            "Artificial intelligence must have access to objects, categories, properties and relations between all of them to implement knowledge engineering\n",
            "Initiating common sense, reasoning and problem-solving power in machines is a difficult and tedious task\n",
            "Machine learning is also a core part of AI\n",
            "Learning without any kind of supervision requires an ability to identify patterns in streams of inputs, whereas learning with adequate supervision involves classification and numerical regressions\n",
            "Classification determines the category an object belongs to and regression deals with obtaining a set of numerical input or output examples, thereby discovering functions enabling the generation of suitable outputs from respective inputs\n",
            "Mathematical analysis of machine learning algorithms and their performance is a well-defined branch of theoretical computer science often referred to as computational learning theory\n",
            "Machine perception deals with the capability to use sensory inputs to deduce the different aspects of the world, while computer vision is the power to analyze visual inputs with a few sub-problems such as facial, object and gesture recognition\n",
            "Robotics is also a major field related to AI\n",
            "Robots require intelligence to handle tasks such as object manipulation and navigation, along with sub-problems of localization, motion planning and mapping.\n",
            "\n",
            "Indexes of top ranked_sentence order are  [(0.2985019289600398, ['Robotics', 'is', 'also', 'a', 'major', 'field', 'related', 'to', 'AI']), (0.2985019289600398, ['Machine', 'learning', 'is', 'also', 'a', 'core', 'part', 'of', 'AI']), (0.044777349119991164, ['Mathematical', 'analysis', 'of', 'machine', 'learning', 'algorithms', 'and', 'their', 'performance', 'is', 'a', 'well-defined', 'branch', 'of', 'theoretical', 'computer', 'science', 'often', 'referred', 'to', 'as', 'computational', 'learning', 'theory']), (0.044777349119991164, ['Machines', 'can', 'often', 'act', 'and', 'react', 'like', 'humans', 'only', 'if', 'they', 'have', 'abundant', 'information', 'relating', 'to', 'the', 'world']), (0.044777349119991164, ['Machine', 'perception', 'deals', 'with', 'the', 'capability', 'to', 'use', 'sensory', 'inputs', 'to', 'deduce', 'the', 'different', 'aspects', 'of', 'the', 'world,', 'while', 'computer', 'vision', 'is', 'the', 'power', 'to', 'analyze', 'visual', 'inputs', 'with', 'a', 'few', 'sub-problems', 'such', 'as', 'facial,', 'object', 'and', 'gesture', 'recognition']), (0.044777349119991164, ['Learning', 'without', 'any', 'kind', 'of', 'supervision', 'requires', 'an', 'ability', 'to', 'identify', 'patterns', 'in', 'streams', 'of', 'inputs,', 'whereas', 'learning', 'with', 'adequate', 'supervision', 'involves', 'classification', 'and', 'numerical', 'regressions']), (0.044777349119991164, ['It', 'has', 'become', 'an', 'essential', 'part', 'of', 'the', 'technology', 'industry.Knowledge', 'engineering', 'is', 'a', 'core', 'part', 'of', 'AI', 'research']), (0.044777349119991164, ['Initiating', 'common', 'sense,', 'reasoning', 'and', 'problem-solving', 'power', 'in', 'machines', 'is', 'a', 'difficult', 'and', 'tedious', 'task']), (0.044777349119991164, ['Classification', 'determines', 'the', 'category', 'an', 'object', 'belongs', 'to', 'and', 'regression', 'deals', 'with', 'obtaining', 'a', 'set', 'of', 'numerical', 'input', 'or', 'output', 'examples,', 'thereby', 'discovering', 'functions', 'enabling', 'the', 'generation', 'of', 'suitable', 'outputs', 'from', 'respective', 'inputs']), (0.044777349119991164, ['Artificial', 'intelligence', 'must', 'have', 'access', 'to', 'objects,', 'categories,', 'properties', 'and', 'relations', 'between', 'all', 'of', 'them', 'to', 'implement', 'knowledge', 'engineering']), (0.044777349119991164, ['Artificial', 'intelligence', 'is', 'a', 'branch', 'of', 'computer', 'science', 'that', 'aims', 'to', 'create', 'intelligent', 'machines'])]\n",
            "Summarize Text: \n",
            " Robotics is also a major field related to AI. Machine learning is also a core part of AI. Mathematical analysis of machine learning algorithms and their performance is a well-defined branch of theoretical computer science often referred to as computational learning theory. Machines can often act and react like humans only if they have abundant information relating to the world. Machine perception deals with the capability to use sensory inputs to deduce the different aspects of the world, while computer vision is the power to analyze visual inputs with a few sub-problems such as facial, object and gesture recognition\n"
          ],
          "name": "stdout"
        }
      ]
    }
  ]
}